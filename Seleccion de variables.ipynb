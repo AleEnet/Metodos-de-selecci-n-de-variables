{
 "cells": [
  {
   "cell_type": "code",
   "execution_count": 70,
   "id": "ada3c16f",
   "metadata": {},
   "outputs": [
    {
     "data": {
      "text/plain": [
       "19"
      ]
     },
     "execution_count": 70,
     "metadata": {},
     "output_type": "execute_result"
    }
   ],
   "source": [
    "import seaborn as sns\n",
    "import numpy as np\n",
    "import pandas as pd\n",
    "import matplotlib.pyplot as plt\n",
    "from sklearn import tree\n",
    "from sklearn.tree import DecisionTreeClassifier\n",
    "\n",
    "df=pd.read_csv(\"SkillCraft1_Dataset.csv\",encoding = \"latin\")\n",
    "df.columns\n",
    "df=df.drop('GameID', axis=1)\n",
    "df = df.replace('?', np.nan) \n",
    "df[[\"Age\",\"HoursPerWeek\",\"TotalHours\"]] = df[[\"Age\",\"HoursPerWeek\",\"TotalHours\"]].apply(pd.to_numeric)\n",
    "df = df.dropna()\n",
    "df= df.reset_index(drop=True)\n",
    "\n",
    "len(df.axes[1])\n"
   ]
  },
  {
   "cell_type": "markdown",
   "id": "8eb30e62",
   "metadata": {},
   "source": [
    "# Divisición del Dataset en train y test\n",
    "### Dada la particularidad de que cada categoría presenta n° desbalanceado, se generó un train y un test set que respeten las proporciones originales de la muestra"
   ]
  },
  {
   "cell_type": "code",
   "execution_count": 74,
   "id": "a653a53a",
   "metadata": {},
   "outputs": [],
   "source": [
    "from sklearn.model_selection import StratifiedShuffleSplit\n",
    "\n",
    "stratified_ShuffleSplit = StratifiedShuffleSplit(n_splits=1, test_size=0.2,random_state=42) \n",
    "\n",
    "for train_index, test_index in stratified_ShuffleSplit.split(df,df[\"LeagueIndex\"]):\n",
    "    train_set = df.loc[train_index]\n",
    "    test_set = df.loc[test_index]\n",
    "    \n",
    "x_train = train_set.iloc[:,1:]\n",
    "y_train = train_set.iloc[:,0]\n",
    "x_test = test_set.iloc[:,1:]\n",
    "y_test = test_set.iloc[:,0]\n"
   ]
  },
  {
   "cell_type": "markdown",
   "id": "8b6bca16",
   "metadata": {},
   "source": [
    "# Algoritmo de ML a evaluar: Árbol de decisión\n",
    "### Al utilizar un Dataset enfocado en la clasificación de usuarios, para este entregable se empleo un simple arbol de decisión como algoritmo de ML para evaluar su performance."
   ]
  },
  {
   "cell_type": "code",
   "execution_count": 76,
   "id": "a19ddff7",
   "metadata": {},
   "outputs": [
    {
     "data": {
      "text/plain": [
       "DecisionTreeClassifier()"
      ]
     },
     "execution_count": 76,
     "metadata": {},
     "output_type": "execute_result"
    }
   ],
   "source": [
    "tree_clf = DecisionTreeClassifier()\n",
    "tree_clf.fit(x_train,y_train)\n",
    "\n"
   ]
  },
  {
   "cell_type": "markdown",
   "id": "7f7886ea",
   "metadata": {},
   "source": [
    "### Debido a que se van a evluar el performance de este algoritmo con las distintas varibles que sugieran cada método de selección de variables, de antemano no se va a realizar un ajuste de los hiperparametros del algoritmo (trabajamos en principio con los valores default)"
   ]
  },
  {
   "cell_type": "code",
   "execution_count": 47,
   "id": "8feae125",
   "metadata": {},
   "outputs": [
    {
     "name": "stdout",
     "output_type": "stream",
     "text": [
      "Precision: 0.235\n",
      "Recall: 0.325\n"
     ]
    }
   ],
   "source": [
    "from sklearn.metrics import precision_score, recall_score\n",
    "\n",
    "test_y_pred = tree_clf.predict(x_test)\n",
    "\n",
    "precision = precision_score(y_test, test_y_pred, labels=[1,2], average='micro')\n",
    "recall = recall_score(y_test, test_y_pred, average='micro')\n",
    "\n",
    "print('Precision: %.3f' % precision)\n",
    "print('Recall: %.3f' % recall)\n",
    "\n"
   ]
  },
  {
   "cell_type": "markdown",
   "id": "f3d13fe2",
   "metadata": {},
   "source": [
    "# MODELO BASE\n",
    "## Precision: 0.248\n",
    "## Recall: 0.352"
   ]
  },
  {
   "cell_type": "markdown",
   "id": "72c7337a",
   "metadata": {},
   "source": [
    "## Ajustes de hiperparametros del MODELO BASE (todas las variables) "
   ]
  },
  {
   "cell_type": "code",
   "execution_count": 48,
   "id": "0fd97b92",
   "metadata": {},
   "outputs": [
    {
     "data": {
      "text/plain": [
       "{'max_depth': 5, 'min_samples_leaf': 80, 'min_samples_split': 10}"
      ]
     },
     "execution_count": 48,
     "metadata": {},
     "output_type": "execute_result"
    }
   ],
   "source": [
    "from sklearn.model_selection import GridSearchCV\n",
    "\n",
    "\n",
    "param_grid = [\n",
    "{'max_depth': [3, 5, 10], 'min_samples_split': [10, 20, 40, 80], \"min_samples_leaf\": [10, 20, 40, 80]}\n",
    "]\n",
    "\n",
    "\n",
    "grid_search = GridSearchCV(tree_clf, param_grid, cv=5,\n",
    "scoring='accuracy',\n",
    "return_train_score=True)\n",
    "\n",
    "features_df_ = train_set.iloc[:,1:]\n",
    "\n",
    "labels_df_=train_set.iloc[:,0]\n",
    "\n",
    "\n",
    "grid_search.fit(features_df_, labels_df_)\n",
    "\n",
    "grid_search.best_params_"
   ]
  },
  {
   "cell_type": "code",
   "execution_count": 49,
   "id": "9ce8e4d6",
   "metadata": {},
   "outputs": [
    {
     "name": "stdout",
     "output_type": "stream",
     "text": [
      "Precision: 0.310\n",
      "Recall: 0.380\n"
     ]
    }
   ],
   "source": [
    "tree_clf_HP = DecisionTreeClassifier(max_depth=5, min_samples_leaf=80,min_samples_split=20)\n",
    "tree_clf_HP.fit(x_train,y_train) \n",
    "test_y_pred = tree_clf_HP.predict(x_test)\n",
    "\n",
    "precision = precision_score(y_test, test_y_pred, labels=[1,2], average='micro')\n",
    "recall = recall_score(y_test, test_y_pred, average='micro')\n",
    "\n",
    "print('Precision: %.3f' % precision)\n",
    "print('Recall: %.3f' % recall)\n",
    "\n",
    "\n"
   ]
  },
  {
   "cell_type": "markdown",
   "id": "e997acae",
   "metadata": {},
   "source": [
    "# MODELO BASE + AJUSTE DE HIPERPARAMETROS\n",
    "## Precision: 0.310 (BASE: 0.248)\n",
    "## Recall: 0.352 (BASE:0.380)"
   ]
  },
  {
   "cell_type": "markdown",
   "id": "b6ed523c",
   "metadata": {},
   "source": [
    "# Seleccion de variables"
   ]
  },
  {
   "cell_type": "markdown",
   "id": "f8f5a761",
   "metadata": {},
   "source": [
    "## Métodos de filtrado: Ganancia de información"
   ]
  },
  {
   "cell_type": "code",
   "execution_count": 50,
   "id": "3dda3ca0",
   "metadata": {},
   "outputs": [],
   "source": [
    "from sklearn.feature_selection import mutual_info_classif\n",
    "\n",
    "df_feature = df[['Age', 'HoursPerWeek', 'TotalHours', 'APM',\n",
    "       'SelectByHkeys', 'AssignToHotkeys', 'UniqueHotkeys', 'MinimapAttacks',\n",
    "       'MinimapRightClicks', 'NumberOfPACs', 'GapBetweenPACs', 'ActionLatency',\n",
    "       'ActionsInPAC', 'TotalMapExplored', 'WorkersMade', 'UniqueUnitsMade',\n",
    "       'ComplexUnitsMade', 'ComplexAbilitiesUsed']]\n",
    "df_target = df[[\"LeagueIndex\"]]\n",
    "\n",
    "x = df_feature.to_numpy()\n",
    "y = df_target.squeeze()\n",
    "\n",
    "\n",
    "mutal_info_class = mutual_info_classif(x,y)\n",
    "\n",
    "\n"
   ]
  },
  {
   "cell_type": "code",
   "execution_count": 51,
   "id": "892bf358",
   "metadata": {},
   "outputs": [],
   "source": [
    "mutal_info_class\n",
    "df_mutual_info_class = pd.DataFrame({\"mutual_info_class\":mutal_info_class})\n",
    "\n",
    "columns_features = ['Age', 'HoursPerWeek', 'TotalHours', 'APM',\n",
    "       'SelectByHotkeys', 'AssignToHotkeys', 'UniqueHotkeys', 'MinimapAttacks',\n",
    "       'MinimapRightClicks', 'NumberOfPACs', 'GapBetweenPACs', 'ActionLatency',\n",
    "       'ActionsInPAC', 'TotalMapExplored', 'WorkersMade', 'UniqueUnitsMade',\n",
    "       'ComplexUnitsMade', 'ComplexAbilitiesUsed']\n",
    "\n",
    "df_mutual_info_class[\"features\"] = columns_features\n",
    "\n",
    "df_mutual_info_class = df_mutual_info_class.sort_values(['mutual_info_class'],ascending= False).reset_index(drop=True)"
   ]
  },
  {
   "cell_type": "code",
   "execution_count": 52,
   "id": "07768335",
   "metadata": {},
   "outputs": [
    {
     "data": {
      "image/png": "[encoded data removed]",
      "text/plain": [
       "<Figure size 648x720 with 1 Axes>"
      ]
     },
     "metadata": {
      "needs_background": "light"
     },
     "output_type": "display_data"
    }
   ],
   "source": [
    "f, ax = plt.subplots(figsize=(9, 10))\n",
    "g = sns.barplot(x=\"mutual_info_class\", y=\"features\", data=df_mutual_info_class,\n",
    "            label=\"features\", color=\"#00AFB9\", order = df_mutual_info_class[\"features\"])\n",
    "g.set(xlabel='Variables', ylabel='MIC(mutual_info_class)')\n",
    "sns.despine()\n",
    "\n",
    "plt.xlabel('Variables', fontsize=16);\n",
    "plt.ylabel('MIC(mutual_info_class)', fontsize=16);\n",
    "plt.title('MIC(mutual_info_class)', fontsize=20)\n",
    "plt.tick_params(axis='y', which='major', labelsize=14)\n",
    "\n",
    "\n",
    "\n",
    "\n"
   ]
  },
  {
   "cell_type": "markdown",
   "id": "22c3e235",
   "metadata": {},
   "source": [
    "### Si bien no hay un valor desde el cual uno pueda decidir que variables merecen estar incluidas o no en el modelo, este gráfico muestra claramente que hay ciertas variables que disminuyen mayormente la entropía del set de datos.\n",
    "* Evalúo si el modelo de desción mejora su performance tomando las 7 primeras variables."
   ]
  },
  {
   "cell_type": "code",
   "execution_count": 53,
   "id": "1775c29f",
   "metadata": {},
   "outputs": [
    {
     "name": "stdout",
     "output_type": "stream",
     "text": [
      "Precision: 0.242\n",
      "Recall: 0.335\n"
     ]
    }
   ],
   "source": [
    "train_set_MIC = train_set[[\"LeagueIndex\",\"ActionLatency\",\"APM\",\"NumberOfPACs\",\"SelectByHotkeys\",\"GapBetweenPACs\",\"AssignToHotkeys\",\"TotalHours\"]]\n",
    "X_train_MIC = train_set_MIC.iloc[:,1:]\n",
    "y_train_MIC = train_set_MIC.iloc[:,0]\n",
    "\n",
    "\n",
    "test_set_MIC = test_set[[\"LeagueIndex\",\"ActionLatency\",\"APM\",\"NumberOfPACs\",\"SelectByHotkeys\",\"GapBetweenPACs\",\"AssignToHotkeys\",\"TotalHours\"]]\n",
    "X_test_set_MIC = test_set_MIC.iloc[:,1:]\n",
    "y_test_set_MIC = test_set_MIC.iloc[:,0]\n",
    "\n",
    "\n",
    "tree_clf.fit(X_train_MIC,y_train_MIC) \n",
    "test_y_pred = tree_clf.predict(X_test_set_MIC)\n",
    "\n",
    "precision = precision_score(y_test_set_MIC, test_y_pred, labels=[1,2], average='micro')\n",
    "recall = recall_score(y_test, test_y_pred, average='micro')\n",
    "\n",
    "print('Precision: %.3f' % precision)\n",
    "print('Recall: %.3f' % recall)"
   ]
  },
  {
   "cell_type": "markdown",
   "id": "f6910f37",
   "metadata": {},
   "source": [
    "## MODELO FILTRADO: GANANCIA DE INFORMACIÓN\n",
    "### Precision: 0.242 (BASE: 0.248)\n",
    "### Recall: 0.335 (BASE: 0.352)"
   ]
  },
  {
   "cell_type": "markdown",
   "id": "137efc62",
   "metadata": {},
   "source": [
    "## Ajustes de hiperparametros del MODELO FILTRADO: GANANCIA DE INFORMACIÓN"
   ]
  },
  {
   "cell_type": "code",
   "execution_count": 60,
   "id": "ca72ffea",
   "metadata": {},
   "outputs": [
    {
     "data": {
      "text/plain": [
       "{'max_depth': 5, 'min_samples_leaf': 20, 'min_samples_split': 80}"
      ]
     },
     "execution_count": 60,
     "metadata": {},
     "output_type": "execute_result"
    }
   ],
   "source": [
    "param_grid = [\n",
    "{'max_depth': [3, 5, 10], 'min_samples_split': [10, 20, 40, 80], \"min_samples_leaf\": [10, 20, 40, 80]}\n",
    "]\n",
    "\n",
    "tree_clf = DecisionTreeClassifier()\n",
    "grid_search = GridSearchCV(tree_clf, param_grid, cv=5,\n",
    "scoring='accuracy',\n",
    "return_train_score=True)\n",
    "\n",
    "\n",
    "grid_search.fit(X_train_MIC, y_train_MIC)\n",
    "\n",
    "grid_search.best_params_"
   ]
  },
  {
   "cell_type": "code",
   "execution_count": 61,
   "id": "c11d43b2",
   "metadata": {},
   "outputs": [
    {
     "name": "stdout",
     "output_type": "stream",
     "text": [
      "Precision: 0.310\n",
      "Recall: 0.376\n"
     ]
    }
   ],
   "source": [
    "tree_clf_HP = DecisionTreeClassifier(max_depth=5, min_samples_leaf=20,min_samples_split=80)\n",
    "tree_clf_HP.fit(X_train_MIC,y_train_MIC) \n",
    "test_y_pred = tree_clf_HP.predict(X_test_set_MIC)\n",
    "\n",
    "precision = precision_score(y_test_set_MIC, test_y_pred, labels=[1,2], average='micro')\n",
    "recall = recall_score(y_test, test_y_pred, average='micro')\n",
    "\n",
    "print('Precision: %.3f' % precision)\n",
    "print('Recall: %.3f' % recall)"
   ]
  },
  {
   "cell_type": "markdown",
   "id": "4c39a2ea",
   "metadata": {},
   "source": [
    "## MODELO FILTRADO: GANANCIA DE INFORMACIÓN +Ajuste Hiperparametros\n",
    "### Precision: 0.310 (BASE: 0.248)\n",
    "### Recall: 0.386 (BASE: 0.352)"
   ]
  },
  {
   "cell_type": "markdown",
   "id": "307ee0fd",
   "metadata": {},
   "source": [
    "\n",
    "# Métodos de filtrado: FISHER SCORE"
   ]
  },
  {
   "cell_type": "code",
   "execution_count": 56,
   "id": "d6c70937",
   "metadata": {},
   "outputs": [
    {
     "name": "stderr",
     "output_type": "stream",
     "text": [
      "C:\\Users\\Admin\\anaconda3\\lib\\site-packages\\skfeature\\utility\\construct_W.py:194: FutureWarning: Support for multi-dimensional indexing (e.g. `obj[:, None]`) is deprecated and will be removed in a future version.  Convert to a numpy array before indexing instead.\n",
      "  class_idx_all = class_idx[:, np.newaxis] & class_idx[np.newaxis, :]\n"
     ]
    }
   ],
   "source": [
    "from skfeature.function.similarity_based import fisher_score\n",
    "\n",
    "score_fisher = fisher_score.fisher_score(x,y)\n",
    "df_score_fisher = pd.DataFrame({\"fisher_score\": score_fisher})\n",
    "df_score_fisher[\"variables\"] = columns_features\n",
    "df_score_fisher=df_score_fisher.sort_values([\"fisher_score\"],ascending= False)"
   ]
  },
  {
   "cell_type": "code",
   "execution_count": 57,
   "id": "c5789dbd",
   "metadata": {
    "scrolled": true
   },
   "outputs": [
    {
     "data": {
      "image/png": "[encoded data removed]",
      "text/plain": [
       "<Figure size 648x720 with 1 Axes>"
      ]
     },
     "metadata": {
      "needs_background": "light"
     },
     "output_type": "display_data"
    }
   ],
   "source": [
    "f, ax = plt.subplots(figsize=(9, 10))\n",
    "g = sns.barplot(x=\"fisher_score\", y=\"variables\", data=df_score_fisher,\n",
    "            label=\"features\", color=\"#00AFB9\",order =df_score_fisher[\"variables\"])\n",
    "\n",
    "sns.despine()\n",
    "\n",
    "plt.xlabel('Fisher Score', fontsize=16);\n",
    "plt.ylabel('Variables', fontsize=16);\n",
    "plt.title('Fisher Score', fontsize=20)\n",
    "plt.tick_params(axis='y', which='major', labelsize=14)\n",
    "\n"
   ]
  },
  {
   "cell_type": "markdown",
   "id": "32f1f927",
   "metadata": {},
   "source": [
    "### Si bien ambos metodos discrepan en el orden de importancia para las diferentes varibales, hay ciertas conicidencias para algunas de ellas. Se podría unificar un criterio de selección entre ambos metodos (ej 7 primeras variables de cada metodo)"
   ]
  },
  {
   "cell_type": "code",
   "execution_count": 58,
   "id": "5b3f891e",
   "metadata": {},
   "outputs": [
    {
     "name": "stdout",
     "output_type": "stream",
     "text": [
      "Precision: 0.273\n",
      "Recall: 0.310\n"
     ]
    }
   ],
   "source": [
    "train_set_FISHER = train_set[[\"LeagueIndex\",\"ComplexUnitsMade\",\"NumberOfPACs\",\"ComplexAbilitiesUsed\",\"HoursPerWeek\",\"AssignToHotkeys\",\"SelectByHotkeys\",\"UniqueHotkeys\"]]\n",
    "X_train_FISHER = train_set_FISHER.iloc[:,1:]\n",
    "y_train_FISHER = train_set_FISHER.iloc[:,0]\n",
    "\n",
    "\n",
    "test_set_FISHER = test_set[[\"LeagueIndex\",\"ComplexUnitsMade\",\"NumberOfPACs\",\"ComplexAbilitiesUsed\",\"HoursPerWeek\",\"AssignToHotkeys\",\"SelectByHotkeys\",\"UniqueHotkeys\"]]\n",
    "X_test_set_FISHER = test_set_FISHER.iloc[:,1:]\n",
    "y_test_set_FISHER = test_set_FISHER.iloc[:,0]\n",
    "\n",
    "\n",
    "tree_clf.fit(X_train_FISHER,y_train_FISHER) \n",
    "test_y_pred = tree_clf.predict(X_test_set_FISHER)\n",
    "\n",
    "precision = precision_score(y_test_set_FISHER, test_y_pred, labels=[1,2], average='micro')\n",
    "recall = recall_score(y_test, test_y_pred, average='micro')\n",
    "\n",
    "print('Precision: %.3f' % precision)\n",
    "print('Recall: %.3f' % recall)"
   ]
  },
  {
   "cell_type": "markdown",
   "id": "0f8cb589",
   "metadata": {},
   "source": [
    "## MODELO FILTRADO: FISHER SCORE\n",
    "### Precision: 0.284 (BASE: 0.248)\n",
    "### Recall: 0.313 (BASE: 0.352)"
   ]
  },
  {
   "cell_type": "markdown",
   "id": "4592f8a5",
   "metadata": {},
   "source": [
    "## Ajustes de hiperparametros del MODELO FILTRADO: FISHER SCORE "
   ]
  },
  {
   "cell_type": "code",
   "execution_count": 65,
   "id": "0b281d26",
   "metadata": {},
   "outputs": [
    {
     "data": {
      "text/plain": [
       "{'max_depth': 5, 'min_samples_leaf': 20, 'min_samples_split': 10}"
      ]
     },
     "execution_count": 65,
     "metadata": {},
     "output_type": "execute_result"
    }
   ],
   "source": [
    "param_grid = [\n",
    "{'max_depth': [3, 5, 10], 'min_samples_split': [10, 20, 40, 80], \"min_samples_leaf\": [10, 20, 40, 80]}\n",
    "]\n",
    "tree_clf = DecisionTreeClassifier()\n",
    "\n",
    "grid_search = GridSearchCV(tree_clf, param_grid, cv=5,\n",
    "scoring='accuracy',\n",
    "return_train_score=True)\n",
    "\n",
    "\n",
    "grid_search.fit(X_train_FISHER, y_train_FISHER)\n",
    "\n",
    "grid_search.best_params_"
   ]
  },
  {
   "cell_type": "code",
   "execution_count": 67,
   "id": "bf8c8eca",
   "metadata": {},
   "outputs": [
    {
     "name": "stdout",
     "output_type": "stream",
     "text": [
      "Precision: 0.286\n",
      "Recall: 0.358\n"
     ]
    }
   ],
   "source": [
    "tree_clf_HP = DecisionTreeClassifier(max_depth=5, min_samples_leaf=20,min_samples_split=10)\n",
    "\n",
    "tree_clf_HP.fit(X_train_FISHER,y_train_FISHER) \n",
    "test_y_pred = tree_clf_HP.predict(X_test_set_FISHER)\n",
    "\n",
    "precision = precision_score(y_test_set_FISHER, test_y_pred, labels=[1,2], average='micro')\n",
    "recall = recall_score(y_test, test_y_pred, average='micro')\n",
    "\n",
    "print('Precision: %.3f' % precision)\n",
    "print('Recall: %.3f' % recall)"
   ]
  },
  {
   "cell_type": "markdown",
   "id": "1ebfd820",
   "metadata": {},
   "source": [
    "## MODELO FILTRADO: FISHER SCORE + Ajustes Hiperparametros\n",
    "### Precision: 0.286 (BASE: 0.248)\n",
    "### Recall: 0.358 (BASE: 0.352)"
   ]
  },
  {
   "cell_type": "markdown",
   "id": "fd7df7af",
   "metadata": {},
   "source": [
    "## Métodos de filtrado: Correlación Lineal"
   ]
  },
  {
   "cell_type": "code",
   "execution_count": 13,
   "id": "5f64da93",
   "metadata": {},
   "outputs": [
    {
     "name": "stdout",
     "output_type": "stream",
     "text": [
      "             index  pearson_value Grado_correlacion\n",
      "0      LeagueIndex       1.000000              ALTA\n",
      "4              APM       0.624171              ALTA\n",
      "10    NumberOfPACs       0.589193              ALTA\n",
      "11  GapBetweenPACs      -0.537536              ALTA\n",
      "12   ActionLatency      -0.659940              ALTA\n"
     ]
    },
    {
     "data": {
      "text/html": [
       "<div>\n",
       "<style scoped>\n",
       "    .dataframe tbody tr th:only-of-type {\n",
       "        vertical-align: middle;\n",
       "    }\n",
       "\n",
       "    .dataframe tbody tr th {\n",
       "        vertical-align: top;\n",
       "    }\n",
       "\n",
       "    .dataframe thead th {\n",
       "        text-align: right;\n",
       "    }\n",
       "</style>\n",
       "<table border=\"1\" class=\"dataframe\">\n",
       "  <thead>\n",
       "    <tr style=\"text-align: right;\">\n",
       "      <th></th>\n",
       "      <th>APM</th>\n",
       "      <th>NumberOfPACs</th>\n",
       "      <th>GapBetweenPACs</th>\n",
       "      <th>ActionLatency</th>\n",
       "    </tr>\n",
       "  </thead>\n",
       "  <tbody>\n",
       "    <tr>\n",
       "      <th>APM</th>\n",
       "      <td>1.000000</td>\n",
       "      <td>0.635248</td>\n",
       "      <td>-0.567396</td>\n",
       "      <td>-0.722253</td>\n",
       "    </tr>\n",
       "    <tr>\n",
       "      <th>NumberOfPACs</th>\n",
       "      <td>0.635248</td>\n",
       "      <td>1.000000</td>\n",
       "      <td>-0.491407</td>\n",
       "      <td>-0.817162</td>\n",
       "    </tr>\n",
       "    <tr>\n",
       "      <th>GapBetweenPACs</th>\n",
       "      <td>-0.567396</td>\n",
       "      <td>-0.491407</td>\n",
       "      <td>1.000000</td>\n",
       "      <td>0.680483</td>\n",
       "    </tr>\n",
       "    <tr>\n",
       "      <th>ActionLatency</th>\n",
       "      <td>-0.722253</td>\n",
       "      <td>-0.817162</td>\n",
       "      <td>0.680483</td>\n",
       "      <td>1.000000</td>\n",
       "    </tr>\n",
       "  </tbody>\n",
       "</table>\n",
       "</div>"
      ],
      "text/plain": [
       "                     APM  NumberOfPACs  GapBetweenPACs  ActionLatency\n",
       "APM             1.000000      0.635248       -0.567396      -0.722253\n",
       "NumberOfPACs    0.635248      1.000000       -0.491407      -0.817162\n",
       "GapBetweenPACs -0.567396     -0.491407        1.000000       0.680483\n",
       "ActionLatency  -0.722253     -0.817162        0.680483       1.000000"
      ]
     },
     "execution_count": 13,
     "metadata": {},
     "output_type": "execute_result"
    }
   ],
   "source": [
    "corr_value = df.corr()\n",
    "#Selecciono aquellas variables con un indice de pearson mayor a 0.5 y menor a -0.5 para la variable target\n",
    "corr_value[\"LeagueIndex\"]\n",
    "\n",
    "df_corr_value = pd.DataFrame({\"pearson_value\": corr_value[\"LeagueIndex\"]})\n",
    "df_corr_value.reset_index(inplace = True)\n",
    "df_corr_value\n",
    "\n",
    "\n",
    "def seleccion_corr (df):\n",
    "    if df[\"pearson_value\"] > 0.5 or df[\"pearson_value\"] < -0.5:\n",
    "        return \"ALTA\"\n",
    "    else:\n",
    "        return \"BAJA\"\n",
    "\n",
    "df_corr_value['Grado_correlacion'] = df_corr_value.apply(seleccion_corr, axis = 1)\n",
    "\n",
    "df_corr_value = df_corr_value[df_corr_value[\"Grado_correlacion\"] == \"ALTA\"]\n",
    "    \n",
    "print(df_corr_value)\n",
    "\n",
    "# Analizo si las variables seleccionadas tienen alta correlacion (0.7) entre ellas, \n",
    "# y descarto aquella que tenga el menor indice de correlación de perason. \n",
    "corr_features = df[[\"APM\",\"NumberOfPACs\",\"GapBetweenPACs\",\"ActionLatency\"]].corr()\n",
    "corr_features\n",
    "#SELECCIONARIA BAJO ESTE CRITERIO: ActionLatency y GapBetweenPACs \n"
   ]
  },
  {
   "cell_type": "code",
   "execution_count": 14,
   "id": "4c5cfb4c",
   "metadata": {},
   "outputs": [
    {
     "name": "stdout",
     "output_type": "stream",
     "text": [
      "Precision: 0.235\n",
      "Recall: 0.289\n"
     ]
    }
   ],
   "source": [
    "train_set_CORR = train_set[[\"LeagueIndex\",\"APM\",\"NumberOfPACs\",\"GapBetweenPACs\",\"ActionLatency\"]]\n",
    "X_train_CORR = train_set_CORR.iloc[:,1:]\n",
    "y_train_CORR = train_set_CORR.iloc[:,0]\n",
    "\n",
    "\n",
    "test_set_CORR = test_set[[\"LeagueIndex\",\"APM\",\"NumberOfPACs\",\"GapBetweenPACs\",\"ActionLatency\"]]\n",
    "X_test_set_CORR = test_set_CORR.iloc[:,1:]\n",
    "y_test_set_CORR = test_set_CORR.iloc[:,0]\n",
    "\n",
    "\n",
    "tree_clf.fit(X_train_CORR,y_train_CORR) \n",
    "test_y_pred = tree_clf.predict(X_test_set_CORR)\n",
    "\n",
    "precision = precision_score(y_test_set_CORR, test_y_pred, labels=[1,2], average='micro')\n",
    "recall = recall_score(y_test, test_y_pred, average='micro')\n",
    "\n",
    "print('Precision: %.3f' % precision)\n",
    "print('Recall: %.3f' % recall)"
   ]
  },
  {
   "cell_type": "markdown",
   "id": "eb2833ce",
   "metadata": {},
   "source": [
    "## MODELO FILTRADO: CORRELACIÓN LINEAL\n",
    "### Precision: 0.200 (BASE: 0.248)\n",
    "### Recall: 0.287 (BASE: 0.352)"
   ]
  },
  {
   "cell_type": "markdown",
   "id": "de83ac2c",
   "metadata": {},
   "source": [
    "## Ajustes de hiperparametros del MODELO FILTRADO: CORRELACIÓN LINEAL "
   ]
  },
  {
   "cell_type": "code",
   "execution_count": 68,
   "id": "ca6f106c",
   "metadata": {},
   "outputs": [
    {
     "data": {
      "text/plain": [
       "{'max_depth': 5, 'min_samples_leaf': 80, 'min_samples_split': 10}"
      ]
     },
     "execution_count": 68,
     "metadata": {},
     "output_type": "execute_result"
    }
   ],
   "source": [
    "param_grid = [\n",
    "{'max_depth': [3, 5, 10], 'min_samples_split': [10, 20, 40, 80], \"min_samples_leaf\": [10, 20, 40, 80]}\n",
    "]\n",
    "tree_clf = DecisionTreeClassifier()\n",
    "\n",
    "grid_search = GridSearchCV(tree_clf, param_grid, cv=5,\n",
    "scoring='accuracy',\n",
    "return_train_score=True)\n",
    "\n",
    "\n",
    "grid_search.fit(X_train_CORR, y_train_CORR)\n",
    "\n",
    "grid_search.best_params_"
   ]
  },
  {
   "cell_type": "code",
   "execution_count": 69,
   "id": "26506038",
   "metadata": {},
   "outputs": [
    {
     "name": "stdout",
     "output_type": "stream",
     "text": [
      "Precision: 0.301\n",
      "Recall: 0.380\n"
     ]
    }
   ],
   "source": [
    "tree_clf_HP = DecisionTreeClassifier(max_depth=5, min_samples_leaf=80,min_samples_split=10)\n",
    "\n",
    "tree_clf_HP.fit(X_train_CORR,y_train_CORR) \n",
    "test_y_pred = tree_clf_HP.predict(X_test_set_CORR)\n",
    "\n",
    "precision = precision_score(y_test_set_CORR, test_y_pred, labels=[1,2], average='micro')\n",
    "recall = recall_score(y_test, test_y_pred, average='micro')\n",
    "\n",
    "print('Precision: %.3f' % precision)\n",
    "print('Recall: %.3f' % recall)"
   ]
  },
  {
   "cell_type": "markdown",
   "id": "aa8694f7",
   "metadata": {},
   "source": [
    "## MODELO FILTRADO: CORRELACIÓN LINEAL + Ajustes Hiperparametros\n",
    "### Precision: 0.301 (BASE: 0.248)\n",
    "### Recall: 0.380 (BASE: 0.352)"
   ]
  },
  {
   "cell_type": "markdown",
   "id": "06b842bf",
   "metadata": {},
   "source": [
    "## Métodos Incorporados: Random Forest Importance"
   ]
  },
  {
   "cell_type": "code",
   "execution_count": 16,
   "id": "08c16e5d",
   "metadata": {},
   "outputs": [
    {
     "data": {
      "text/plain": [
       "RandomForestClassifier(n_estimators=340)"
      ]
     },
     "execution_count": 16,
     "metadata": {},
     "output_type": "execute_result"
    }
   ],
   "source": [
    "from sklearn.ensemble import RandomForestClassifier\n",
    "random_forest = RandomForestClassifier(n_estimators= 340)\n",
    "\n",
    "random_forest.fit(x_train,y_train)\n"
   ]
  },
  {
   "cell_type": "code",
   "execution_count": 23,
   "id": "c996ad8e",
   "metadata": {},
   "outputs": [],
   "source": [
    "importancia_variales = random_forest.feature_importances_\n",
    "importancia_variales\n",
    "df_importancia_variables = pd.DataFrame({\"Importancia\":importancia_variales, \"Variables\":['Age', 'HoursPerWeek', 'TotalHours', 'APM',\n",
    "       'SelectByHotkeys', 'AssignToHotkeys', 'UniqueHotkeys', 'MinimapAttacks',\n",
    "       'MinimapRightClicks', 'NumberOfPACs', 'GapBetweenPACs', 'ActionLatency',\n",
    "       'ActionsInPAC', 'TotalMapExplored', 'WorkersMade', 'UniqueUnitsMade',\n",
    "       'ComplexUnitsMade', 'ComplexAbilitiesUsed'] })\n",
    "df_importancia_variables=df_importancia_variables.sort_values(by=\"Importancia\", ascending=False)"
   ]
  },
  {
   "cell_type": "code",
   "execution_count": 25,
   "id": "91b9c89b",
   "metadata": {},
   "outputs": [
    {
     "data": {
      "image/png": "[encoded data removed]",
      "text/plain": [
       "<Figure size 648x720 with 1 Axes>"
      ]
     },
     "metadata": {
      "needs_background": "light"
     },
     "output_type": "display_data"
    }
   ],
   "source": [
    "f, ax = plt.subplots(figsize=(9, 10))\n",
    "g = sns.barplot(x=\"Importancia\", y=\"Variables\", data=df_importancia_variables,\n",
    "            label=\"Variables\", color=\"#00AFB9\",order =df_importancia_variables[\"Variables\"])\n",
    "\n",
    "sns.despine()\n",
    "\n",
    "plt.xlabel('Random Forest Importance', fontsize=16);\n",
    "plt.ylabel('Variables', fontsize=16);\n",
    "plt.title('Random Forest Importance', fontsize=20)\n",
    "plt.tick_params(axis='y', which='major', labelsize=14)"
   ]
  },
  {
   "cell_type": "markdown",
   "id": "19892215",
   "metadata": {},
   "source": [
    "## El patrón de importancia de las variables es muy similar al obtenido por MIC"
   ]
  },
  {
   "cell_type": "code",
   "execution_count": 26,
   "id": "1f1cbf0a",
   "metadata": {},
   "outputs": [
    {
     "name": "stdout",
     "output_type": "stream",
     "text": [
      "Precision: 0.408\n",
      "Recall: 0.436\n"
     ]
    }
   ],
   "source": [
    "test_y_pred = random_forest.predict(x_test)\n",
    "\n",
    "precision = precision_score(y_test, test_y_pred, labels=[1,2], average='micro')\n",
    "recall = recall_score(y_test, test_y_pred, average='micro')\n",
    "\n",
    "print('Precision: %.3f' % precision)\n",
    "print('Recall: %.3f' % recall)\n"
   ]
  },
  {
   "cell_type": "markdown",
   "id": "c734ad6e",
   "metadata": {},
   "source": [
    "# Selección metodos incorporados: Random Forest Importance\n",
    "## Precision: 0.408 (BASE: 0.248)\n",
    "## Recall: 0.436 (BASE: 0.352)"
   ]
  },
  {
   "cell_type": "markdown",
   "id": "fe563cca",
   "metadata": {},
   "source": [
    "## TABLA RESUMEN\n",
    "### Utilizando el mismo algoritmo de selcción (árbol de decisión)"
   ]
  },
  {
   "cell_type": "markdown",
   "id": "a9161e35",
   "metadata": {},
   "source": [
    "| Metodo de selección | Ajuste de hiperparametros? | Número de variables |precision en el test set | recall en el test set | Ajuste al test set |\n",
    "| --- | --- | --- | --- | --- | --- |\n",
    "| Ninguno | No | 18 | 24.8 | 38.2 | Subajuste |\n",
    "| Ninguno | Si | 18 | 31.0 | 35.2 | Subajuste |\n",
    "| Ganancia de información | No | 7 | 24.2 | 33.5 | Subajuste |\n",
    "| Ganancia de información | Si | 7 | 31.2 | 38.5 | Subajuste |\n",
    "| FISHER SCORE | No | 7 | 28.4 | 31.3 | Subajuste |\n",
    "| FISHER SCORE | Si | 7 | 28.6 | 35.8 | Subajuste |\n",
    "| Correlación Lineal | No | 4 | 20 | 28.7 | Subajuste |\n",
    "| Correlación Lineal | Si | 4 | 30.1 | 38.7 | Subajuste |\n",
    "| Random Forest Importance | No | 18 | 40.8 | 43.6 | Subajuste |"
   ]
  },
  {
   "cell_type": "markdown",
   "id": "d4cbea78",
   "metadata": {},
   "source": [
    "# Conclusiones\n",
    "\n",
    "### En general, los métodos de seleccion de variables de filtrado mostraron tener un precision y sensitividad cercana al 30%. A su vez, se observo que el ajuste de hiperparametros del árbol mejoro estos puntajes. El mejor metodo que mostro un mejor desempeño fue a traves de un RandomForest. \n",
    "### Por lo pronto, la reduccion o selección de variables no parece mejorar los modelos de arbol de desicion evaluados.\n",
    "### Se descarta un sobreajuste de los modelos de arbol evaluados debido a que tanto la precision como la sensibilidad disminuyen cuando se los evalúa contra el TEST SET.\n",
    "### Los metodos de Ensamble podrían ser los mas prometedores para la obtencion de un modelo de ML generalizable."
   ]
  }
 ],
 "metadata": {
  "kernelspec": {
   "display_name": "Python 3 (ipykernel)",
   "language": "python",
   "name": "python3"
  },
  "language_info": {
   "codemirror_mode": {
    "name": "ipython",
    "version": 3
   },
   "file_extension": ".py",
   "mimetype": "text/x-python",
   "name": "python",
   "nbconvert_exporter": "python",
   "pygments_lexer": "ipython3",
   "version": "3.9.12"
  }
 },
 "nbformat": 4,
 "nbformat_minor": 5
}
